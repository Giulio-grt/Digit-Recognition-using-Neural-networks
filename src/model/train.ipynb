{
 "cells": [
  {
   "cell_type": "code",
   "execution_count": 34,
   "id": "18cad7f6",
   "metadata": {},
   "outputs": [],
   "source": [
    "import numpy as np\n",
    "import pandas as pd\n",
    "import math\n",
    "import matplotlib.pyplot as plt\n",
    "from sklearn.model_selection import train_test_split\n",
    "from keras.models import Sequential\n",
    "from keras.utils import to_categorical\n"
   ]
  },
  {
   "cell_type": "code",
   "execution_count": 32,
   "id": "65d1b237",
   "metadata": {},
   "outputs": [
    {
     "name": "stdout",
     "output_type": "stream",
     "text": [
      "shape of train data: (42000, 785)\n",
      "shape of images: 28 x 28\n"
     ]
    }
   ],
   "source": [
    "# Load the training data\n",
    "train_data = pd.read_csv('data.csv') \n",
    "\n",
    "# each row = one image, column 0 = label, columns 1-784 = pixels representing the image\n",
    "print(f\"shape of train data: {train_data.shape}\")\n",
    "\n",
    "x = train_data.iloc[:,1:] #pixel values\n",
    "y = train_data.iloc[:,0] #labels\n",
    "\n",
    "n = int(math.sqrt(x.shape[1]))\n",
    "print(f\"shape of images: {n} x {n}\")\n"
   ]
  },
  {
   "cell_type": "code",
   "execution_count": 33,
   "id": "5e52112f",
   "metadata": {},
   "outputs": [
    {
     "name": "stdout",
     "output_type": "stream",
     "text": [
      "Shape of x after preparation: (42000, 28, 28, 1)\n",
      "Shape of y after one-hot encoding:(42000, 10)\n"
     ]
    }
   ],
   "source": [
    "# Prepare the data for training\n",
    "\n",
    "if not isinstance(x, pd.DataFrame): # Ensure x is a DataFrame\n",
    "    x = pd.DataFrame(x)\n",
    "x = x.apply(pd.to_numeric, errors='coerce') # Convert to numeric\n",
    "x = x.fillna(0)     # Fill NaN values with 0 \n",
    "x = x.values / 255.0    # Normalize pixel values to [0, 1]\n",
    "x = x.reshape(-1, 28, 28, 1) # Reshape to (num_samples, 28, 28, 1 = grayscale) \n",
    "\n",
    "print(f\"Shape of x after preparation: {x.shape}\")\n",
    "\n",
    "# Convert labels to categorical \n",
    "y = to_categorical(y, num_classes=10)\n",
    "print(f\"Shape of y after one-hot encoding:{y.shape}\")"
   ]
  },
  {
   "cell_type": "code",
   "execution_count": 35,
   "id": "3e838218",
   "metadata": {},
   "outputs": [
    {
     "name": "stdout",
     "output_type": "stream",
     "text": [
      "Shape of x_train: (33600, 28, 28, 1), y_train: (33600, 10)\n"
     ]
    }
   ],
   "source": [
    "# Split the data into training and test sets\n",
    "x_train, x_test, y_train, y_test = train_test_split(x, y, test_size=0.2, random_state=42)\n",
    "print(f\"Shape of x_train: {x_train.shape}, y_train: {y_train.shape}\")"
   ]
  },
  {
   "cell_type": "code",
   "execution_count": null,
   "id": "72030e0a",
   "metadata": {},
   "outputs": [],
   "source": []
  }
 ],
 "metadata": {
  "kernelspec": {
   "display_name": "digit-recognition",
   "language": "python",
   "name": "python3"
  },
  "language_info": {
   "codemirror_mode": {
    "name": "ipython",
    "version": 3
   },
   "file_extension": ".py",
   "mimetype": "text/x-python",
   "name": "python",
   "nbconvert_exporter": "python",
   "pygments_lexer": "ipython3",
   "version": "3.10.18"
  }
 },
 "nbformat": 4,
 "nbformat_minor": 5
}
