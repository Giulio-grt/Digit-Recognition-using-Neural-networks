{
 "cells": [
  {
   "cell_type": "code",
   "execution_count": 43,
   "id": "18cad7f6",
   "metadata": {},
   "outputs": [],
   "source": [
    "import numpy as np\n",
    "import pandas as pd\n",
    "import math\n",
    "import matplotlib.pyplot as plt\n",
    "from sklearn.model_selection import train_test_split\n",
    "from keras.models import Sequential\n",
    "from keras.layers import Flatten, Dense, Input\n",
    "from keras.utils import to_categorical\n",
    "from keras.callbacks import EarlyStopping\n"
   ]
  },
  {
   "cell_type": "code",
   "execution_count": 37,
   "id": "65d1b237",
   "metadata": {},
   "outputs": [
    {
     "name": "stdout",
     "output_type": "stream",
     "text": [
      "shape of train data: (42000, 785)\n",
      "shape of images: 28 x 28\n"
     ]
    }
   ],
   "source": [
    "# Load the training data\n",
    "train_data = pd.read_csv('data.csv') \n",
    "\n",
    "# each row = one image, column 0 = label, columns 1 to 784 = pixels representing the image\n",
    "print(f\"shape of train data: {train_data.shape}\")\n",
    "\n",
    "x = train_data.iloc[:,1:] #pixel values\n",
    "y = train_data.iloc[:,0] #labels\n",
    "\n",
    "n = int(math.sqrt(x.shape[1]))\n",
    "print(f\"shape of images: {n} x {n}\")\n"
   ]
  },
  {
   "cell_type": "code",
   "execution_count": null,
   "id": "5e52112f",
   "metadata": {},
   "outputs": [
    {
     "name": "stdout",
     "output_type": "stream",
     "text": [
      "Shape of x after preparation: (42000, 28, 28, 1)\n",
      "Shape of y after one-hot encoding:(42000, 10)\n"
     ]
    }
   ],
   "source": [
    "# Prepare the data for training\n",
    "\n",
    "x = pd.DataFrame(x) # transform x into a pandas DataFrame\n",
    "x = x.apply(pd.to_numeric, errors='coerce').fillna(0) # Convert to numeric values only \n",
    "x = x.values / 255.0    # Normalize pixel values to [0, 1]\n",
    "x = x.reshape(-1, 28,28, 1) # Reshape to (num_samples, 28, 28, 1 = grayscale) \n",
    "\n",
    "print(f\"Shape of x after preparation: {x.shape}\")\n",
    "\n",
    "# Convert labels to categorical \n",
    "y = to_categorical(y, num_classes=10)\n",
    "print(f\"Shape of y after one-hot encoding:{y.shape}\")"
   ]
  },
  {
   "cell_type": "code",
   "execution_count": 35,
   "id": "3e838218",
   "metadata": {},
   "outputs": [
    {
     "name": "stdout",
     "output_type": "stream",
     "text": [
      "Shape of x_train: (33600, 28, 28, 1), y_train: (33600, 10)\n"
     ]
    }
   ],
   "source": [
    "# Split the data into training and test sets\n",
    "x_train, x_test, y_train, y_test = train_test_split(x, y, test_size=0.2, random_state=42)\n",
    "print(f\"Shape of x_train: {x_train.shape}, y_train: {y_train.shape}\")"
   ]
  },
  {
   "cell_type": "code",
   "execution_count": 44,
   "id": "72030e0a",
   "metadata": {},
   "outputs": [
    {
     "name": "stdout",
     "output_type": "stream",
     "text": [
      "Model: \"sequential_1\"\n",
      "_________________________________________________________________\n",
      " Layer (type)                Output Shape              Param #   \n",
      "=================================================================\n",
      " flatten_1 (Flatten)         (None, 784)               0         \n",
      "                                                                 \n",
      " dense_3 (Dense)             (None, 128)               100480    \n",
      "                                                                 \n",
      " dense_4 (Dense)             (None, 64)                8256      \n",
      "                                                                 \n",
      " dense_5 (Dense)             (None, 10)                650       \n",
      "                                                                 \n",
      "=================================================================\n",
      "Total params: 109,386\n",
      "Trainable params: 109,386\n",
      "Non-trainable params: 0\n",
      "_________________________________________________________________\n"
     ]
    }
   ],
   "source": [
    "#Import the model and build the neural network\n",
    "\n",
    "model = Sequential([          # Model definition\n",
    "    Input(shape=(28, 28, 1)), # Defining the input : each image is 28x28 pixels with 1 channel (grayscale)\n",
    "    Flatten(),                # Flatten the 2D image to a 1D vector\n",
    "    Dense(128, activation='relu'), # First Hidden layer with 128 neurons and ReLU activation\n",
    "    Dense(64, activation='relu'),  # Second Hidden layer with 64 neurons and ReLU activation\n",
    "    Dense(10, activation='softmax')# Output layer with 10 neurons and softmax activation\n",
    "])\n",
    "model.compile(optimizer='adam', loss='categorical_crossentropy', metrics=['accuracy']) \n",
    "# Adam to update weights + categorical_crossentropy to determine how close the predictions are to the true labels\n",
    "\n",
    "# Define early stopping to prevent overfitting\n",
    "early_stop = EarlyStopping(monitor='val_loss', patience=3, restore_best_weights=True)\n",
    "\n",
    "model.summary()"
   ]
  },
  {
   "cell_type": "code",
   "execution_count": null,
   "id": "2a8b990c",
   "metadata": {},
   "outputs": [
    {
     "name": "stdout",
     "output_type": "stream",
     "text": [
      "Epoch 1/50\n",
      "525/525 [==============================] - 5s 6ms/step - loss: 0.3600 - accuracy: 0.8976 - val_loss: 0.2053 - val_accuracy: 0.9392\n",
      "Epoch 2/50\n",
      "525/525 [==============================] - 2s 5ms/step - loss: 0.1485 - accuracy: 0.9565 - val_loss: 0.1383 - val_accuracy: 0.9605\n",
      "Epoch 3/50\n",
      "525/525 [==============================] - 3s 5ms/step - loss: 0.1006 - accuracy: 0.9706 - val_loss: 0.1335 - val_accuracy: 0.9606\n",
      "Epoch 4/50\n",
      "525/525 [==============================] - 3s 5ms/step - loss: 0.0737 - accuracy: 0.9774 - val_loss: 0.1148 - val_accuracy: 0.9643\n",
      "Epoch 5/50\n",
      "525/525 [==============================] - 3s 6ms/step - loss: 0.0574 - accuracy: 0.9816 - val_loss: 0.1011 - val_accuracy: 0.9694\n",
      "Epoch 6/50\n",
      "525/525 [==============================] - 3s 6ms/step - loss: 0.0430 - accuracy: 0.9867 - val_loss: 0.1069 - val_accuracy: 0.9680\n",
      "Epoch 7/50\n",
      "525/525 [==============================] - 3s 5ms/step - loss: 0.0350 - accuracy: 0.9889 - val_loss: 0.0992 - val_accuracy: 0.9718\n",
      "Epoch 8/50\n",
      "525/525 [==============================] - 2s 4ms/step - loss: 0.0267 - accuracy: 0.9921 - val_loss: 0.0932 - val_accuracy: 0.9733\n",
      "Epoch 9/50\n",
      "525/525 [==============================] - 2s 4ms/step - loss: 0.0237 - accuracy: 0.9929 - val_loss: 0.1001 - val_accuracy: 0.9726\n",
      "Epoch 10/50\n",
      "525/525 [==============================] - 2s 4ms/step - loss: 0.0184 - accuracy: 0.9945 - val_loss: 0.1201 - val_accuracy: 0.9674\n",
      "Epoch 11/50\n",
      "525/525 [==============================] - 2s 4ms/step - loss: 0.0170 - accuracy: 0.9945 - val_loss: 0.1052 - val_accuracy: 0.9732\n"
     ]
    }
   ],
   "source": [
    "history = model.fit(x_train, y_train, epochs=20, batch_size=64, validation_data=(x_test, y_test), callbacks=[early_stop])"
   ]
  },
  {
   "cell_type": "code",
   "execution_count": 48,
   "id": "75e70c44",
   "metadata": {},
   "outputs": [
    {
     "data": {
      "image/png": "[encoded data removed]",
      "text/plain": [
       "<Figure size 640x480 with 1 Axes>"
      ]
     },
     "metadata": {},
     "output_type": "display_data"
    }
   ],
   "source": [
    "plt.plot(history.history['accuracy'], label='training accuracy')\n",
    "plt.plot(history.history['val_accuracy'], label='validation accuracy')\n",
    "plt.legend()\n",
    "plt.title('Model Accuracy')\n",
    "plt.xlabel('Epochs')\n",
    "plt.ylabel('Accuracy')\n",
    "plt.show()"
   ]
  },
  {
   "cell_type": "code",
   "execution_count": 50,
   "id": "932dbeeb",
   "metadata": {},
   "outputs": [],
   "source": [
    "model.save('trained_model.h5')  # Save the trained model"
   ]
  }
 ],
 "metadata": {
  "kernelspec": {
   "display_name": "digit-recognition",
   "language": "python",
   "name": "python3"
  },
  "language_info": {
   "codemirror_mode": {
    "name": "ipython",
    "version": 3
   },
   "file_extension": ".py",
   "mimetype": "text/x-python",
   "name": "python",
   "nbconvert_exporter": "python",
   "pygments_lexer": "ipython3",
   "version": "3.10.18"
  }
 },
 "nbformat": 4,
 "nbformat_minor": 5
}
